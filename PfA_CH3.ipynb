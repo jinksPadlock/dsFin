{
 "cells": [
  {
   "cell_type": "code",
   "execution_count": 18,
   "outputs": [],
   "source": [
    "import csv\n",
    "import pandas as pd\n",
    "import configparser\n",
    "import quandl as q\n",
    "import eikon as ek"
   ],
   "metadata": {
    "collapsed": false
   }
  },
  {
   "cell_type": "code",
   "execution_count": 20,
   "outputs": [
    {
     "name": "stderr",
     "output_type": "stream",
     "text": [
      "2022-11-30 11:55:46,633 P[23292] [MainThread 175772] Error: no proxy address identified.\n",
      "Check if Eikon Desktop or Eikon API Proxy is running.\n",
      "2022-11-30 11:55:46,635 P[23292] [MainThread 175772] Error on handshake url http://127.0.0.1:None/api/handshake : UnsupportedProtocol(\"Request URL is missing an 'http://' or 'https://' protocol.\")\n",
      "2022-11-30 11:55:46,635 P[23292] [MainThread 175772] Error on handshake url http://127.0.0.1:None/api/handshake : UnsupportedProtocol(\"Request URL is missing an 'http://' or 'https://' protocol.\")\n",
      "2022-11-30 11:55:46,636 P[23292] [MainThread 175772] Port number was not identified, cannot send any request\n"
     ]
    }
   ],
   "source": [
    "config = configparser.ConfigParser()\n",
    "config.read('./pyalgo.cfg')\n",
    "q.ApiConfig.api_key = config['quandl']['api_key']\n",
    "\n",
    "ek.set_app_key(config['eikon']['api_key'])"
   ],
   "metadata": {
    "collapsed": false
   }
  },
  {
   "cell_type": "code",
   "execution_count": 13,
   "outputs": [
    {
     "name": "stdout",
     "output_type": "stream",
     "text": [
      "Date,HIGH,CLOSE,LOW,OPEN,COUNT,VOLUME\n",
      "2020-04-01,248.72,240.91,239.13,246.5,460606.0,44054638.0\n",
      "2020-04-02,245.15,244.93,236.9,240.34,380294.0,41483493.0\n",
      "2020-04-03,245.7,241.41,238.9741,242.8,293699.0,32470017.0\n",
      "2020-04-06,263.11,262.47,249.38,250.9,486681.0,50455071.0\n"
     ]
    }
   ],
   "source": [
    "fn = './data/AAPL2.csv'\n",
    "with open(fn, 'r') as f:\n",
    "    for _ in range(5):\n",
    "        print(f.readline(), end='')"
   ],
   "metadata": {
    "collapsed": false
   }
  },
  {
   "cell_type": "code",
   "execution_count": 14,
   "outputs": [
    {
     "data": {
      "text/plain": "[['Date', 'HIGH', 'CLOSE', 'LOW', 'OPEN', 'COUNT', 'VOLUME'],\n ['2020-04-01',\n  '248.72',\n  '240.91',\n  '239.13',\n  '246.5',\n  '460606.0',\n  '44054638.0'],\n ['2020-04-02',\n  '245.15',\n  '244.93',\n  '236.9',\n  '240.34',\n  '380294.0',\n  '41483493.0'],\n ['2020-04-03',\n  '245.7',\n  '241.41',\n  '238.9741',\n  '242.8',\n  '293699.0',\n  '32470017.0'],\n ['2020-04-06',\n  '263.11',\n  '262.47',\n  '249.38',\n  '250.9',\n  '486681.0',\n  '50455071.0']]"
     },
     "execution_count": 14,
     "metadata": {},
     "output_type": "execute_result"
    }
   ],
   "source": [
    "csv_reader = csv.reader(open(fn, 'r'))\n",
    "data = list(csv_reader)\n",
    "data[:5]"
   ],
   "metadata": {
    "collapsed": false
   }
  },
  {
   "cell_type": "code",
   "execution_count": 15,
   "outputs": [
    {
     "data": {
      "text/plain": "272.38619047619045"
     },
     "execution_count": 15,
     "metadata": {},
     "output_type": "execute_result"
    }
   ],
   "source": [
    "csv_reader = csv.DictReader(open(fn, 'r'))\n",
    "data = list(csv_reader)\n",
    "data[:5]\n",
    "\n",
    "# What's wrong with this? Seems fine to me.\n",
    "sum([float(l['CLOSE']) for l in data]) / len(data)"
   ],
   "metadata": {
    "collapsed": false
   }
  },
  {
   "cell_type": "code",
   "execution_count": 17,
   "outputs": [
    {
     "name": "stdout",
     "output_type": "stream",
     "text": [
      "<class 'pandas.core.frame.DataFrame'>\n",
      "DatetimeIndex: 21 entries, 2020-04-01 to 2020-04-30\n",
      "Data columns (total 6 columns):\n",
      " #   Column  Non-Null Count  Dtype  \n",
      "---  ------  --------------  -----  \n",
      " 0   HIGH    21 non-null     float64\n",
      " 1   CLOSE   21 non-null     float64\n",
      " 2   LOW     21 non-null     float64\n",
      " 3   OPEN    21 non-null     float64\n",
      " 4   COUNT   21 non-null     float64\n",
      " 5   VOLUME  21 non-null     float64\n",
      "dtypes: float64(6)\n",
      "memory usage: 1.1 KB\n"
     ]
    },
    {
     "data": {
      "text/plain": "272.38619047619056"
     },
     "execution_count": 17,
     "metadata": {},
     "output_type": "execute_result"
    }
   ],
   "source": [
    "data = pd.read_csv(fn, index_col=0, parse_dates=True)\n",
    "data.info()\n",
    "data.tail()\n",
    "\n",
    "data['CLOSE'].mean()"
   ],
   "metadata": {
    "collapsed": false
   }
  },
  {
   "cell_type": "code",
   "execution_count": 4,
   "outputs": [
    {
     "ename": "NameError",
     "evalue": "name 'data' is not defined",
     "output_type": "error",
     "traceback": [
      "\u001B[1;31m---------------------------------------------------------------------------\u001B[0m",
      "\u001B[1;31mNameError\u001B[0m                                 Traceback (most recent call last)",
      "Input \u001B[1;32mIn [4]\u001B[0m, in \u001B[0;36m<cell line: 3>\u001B[1;34m()\u001B[0m\n\u001B[0;32m      1\u001B[0m \u001B[38;5;66;03m# This code needed to be updated to include the openpyxl package\u001B[39;00m\n\u001B[0;32m      2\u001B[0m \u001B[38;5;66;03m# in order to write .xlsx files. .xls no longer supported in pandas\u001B[39;00m\n\u001B[1;32m----> 3\u001B[0m \u001B[43mdata\u001B[49m\u001B[38;5;241m.\u001B[39mto_excel(\u001B[38;5;124m'\u001B[39m\u001B[38;5;124m./data/aapl.xlsx\u001B[39m\u001B[38;5;124m'\u001B[39m, \u001B[38;5;124m'\u001B[39m\u001B[38;5;124mAAPL\u001B[39m\u001B[38;5;124m'\u001B[39m)\n\u001B[0;32m      4\u001B[0m data\u001B[38;5;241m.\u001B[39mto_json(\u001B[38;5;124m'\u001B[39m\u001B[38;5;124m./data/aapl.json\u001B[39m\u001B[38;5;124m'\u001B[39m)\n",
      "\u001B[1;31mNameError\u001B[0m: name 'data' is not defined"
     ]
    }
   ],
   "source": [
    "# This code needed to be updated to include the openpyxl package\n",
    "# in order to write .xlsx files. .xls no longer supported in pandas\n",
    "data.to_excel('./data/aapl.xlsx', 'AAPL')\n",
    "data.to_json('./data/aapl.json')"
   ],
   "metadata": {
    "collapsed": false
   }
  },
  {
   "cell_type": "code",
   "execution_count": 6,
   "outputs": [
    {
     "data": {
      "text/plain": "              HIGH   CLOSE       LOW    OPEN   COUNT    VOLUME\nDate                                                          \n2020-04-01  248.72  240.91  239.1300  246.50  460606  44054638\n2020-04-02  245.15  244.93  236.9000  240.34  380294  41483493\n2020-04-03  245.70  241.41  238.9741  242.80  293699  32470017\n2020-04-06  263.11  262.47  249.3800  250.90  486681  50455071\n2020-04-07  271.70  259.43  259.0000  270.80  467375  50721831",
      "text/html": "<div>\n<style scoped>\n    .dataframe tbody tr th:only-of-type {\n        vertical-align: middle;\n    }\n\n    .dataframe tbody tr th {\n        vertical-align: top;\n    }\n\n    .dataframe thead th {\n        text-align: right;\n    }\n</style>\n<table border=\"1\" class=\"dataframe\">\n  <thead>\n    <tr style=\"text-align: right;\">\n      <th></th>\n      <th>HIGH</th>\n      <th>CLOSE</th>\n      <th>LOW</th>\n      <th>OPEN</th>\n      <th>COUNT</th>\n      <th>VOLUME</th>\n    </tr>\n    <tr>\n      <th>Date</th>\n      <th></th>\n      <th></th>\n      <th></th>\n      <th></th>\n      <th></th>\n      <th></th>\n    </tr>\n  </thead>\n  <tbody>\n    <tr>\n      <th>2020-04-01</th>\n      <td>248.72</td>\n      <td>240.91</td>\n      <td>239.1300</td>\n      <td>246.50</td>\n      <td>460606</td>\n      <td>44054638</td>\n    </tr>\n    <tr>\n      <th>2020-04-02</th>\n      <td>245.15</td>\n      <td>244.93</td>\n      <td>236.9000</td>\n      <td>240.34</td>\n      <td>380294</td>\n      <td>41483493</td>\n    </tr>\n    <tr>\n      <th>2020-04-03</th>\n      <td>245.70</td>\n      <td>241.41</td>\n      <td>238.9741</td>\n      <td>242.80</td>\n      <td>293699</td>\n      <td>32470017</td>\n    </tr>\n    <tr>\n      <th>2020-04-06</th>\n      <td>263.11</td>\n      <td>262.47</td>\n      <td>249.3800</td>\n      <td>250.90</td>\n      <td>486681</td>\n      <td>50455071</td>\n    </tr>\n    <tr>\n      <th>2020-04-07</th>\n      <td>271.70</td>\n      <td>259.43</td>\n      <td>259.0000</td>\n      <td>270.80</td>\n      <td>467375</td>\n      <td>50721831</td>\n    </tr>\n  </tbody>\n</table>\n</div>"
     },
     "execution_count": 6,
     "metadata": {},
     "output_type": "execute_result"
    }
   ],
   "source": [
    "data_copy_1 = pd.read_excel('./data/aapl.xlsx', 'AAPL', index_col=0)\n",
    "data_copy_1.head()"
   ],
   "metadata": {
    "collapsed": false
   }
  },
  {
   "cell_type": "code",
   "execution_count": 7,
   "outputs": [
    {
     "data": {
      "text/plain": "              HIGH   CLOSE       LOW    OPEN   COUNT    VOLUME\n2020-04-01  248.72  240.91  239.1300  246.50  460606  44054638\n2020-04-02  245.15  244.93  236.9000  240.34  380294  41483493\n2020-04-03  245.70  241.41  238.9741  242.80  293699  32470017\n2020-04-06  263.11  262.47  249.3800  250.90  486681  50455071\n2020-04-07  271.70  259.43  259.0000  270.80  467375  50721831",
      "text/html": "<div>\n<style scoped>\n    .dataframe tbody tr th:only-of-type {\n        vertical-align: middle;\n    }\n\n    .dataframe tbody tr th {\n        vertical-align: top;\n    }\n\n    .dataframe thead th {\n        text-align: right;\n    }\n</style>\n<table border=\"1\" class=\"dataframe\">\n  <thead>\n    <tr style=\"text-align: right;\">\n      <th></th>\n      <th>HIGH</th>\n      <th>CLOSE</th>\n      <th>LOW</th>\n      <th>OPEN</th>\n      <th>COUNT</th>\n      <th>VOLUME</th>\n    </tr>\n  </thead>\n  <tbody>\n    <tr>\n      <th>2020-04-01</th>\n      <td>248.72</td>\n      <td>240.91</td>\n      <td>239.1300</td>\n      <td>246.50</td>\n      <td>460606</td>\n      <td>44054638</td>\n    </tr>\n    <tr>\n      <th>2020-04-02</th>\n      <td>245.15</td>\n      <td>244.93</td>\n      <td>236.9000</td>\n      <td>240.34</td>\n      <td>380294</td>\n      <td>41483493</td>\n    </tr>\n    <tr>\n      <th>2020-04-03</th>\n      <td>245.70</td>\n      <td>241.41</td>\n      <td>238.9741</td>\n      <td>242.80</td>\n      <td>293699</td>\n      <td>32470017</td>\n    </tr>\n    <tr>\n      <th>2020-04-06</th>\n      <td>263.11</td>\n      <td>262.47</td>\n      <td>249.3800</td>\n      <td>250.90</td>\n      <td>486681</td>\n      <td>50455071</td>\n    </tr>\n    <tr>\n      <th>2020-04-07</th>\n      <td>271.70</td>\n      <td>259.43</td>\n      <td>259.0000</td>\n      <td>270.80</td>\n      <td>467375</td>\n      <td>50721831</td>\n    </tr>\n  </tbody>\n</table>\n</div>"
     },
     "execution_count": 7,
     "metadata": {},
     "output_type": "execute_result"
    }
   ],
   "source": [
    "data_copy_2 = pd.read_json('./data/aapl.json')\n",
    "data_copy_2.head()"
   ],
   "metadata": {
    "collapsed": false
   }
  },
  {
   "cell_type": "code",
   "execution_count": 12,
   "outputs": [
    {
     "name": "stdout",
     "output_type": "stream",
     "text": [
      "<class 'pandas.core.frame.DataFrame'>\n",
      "DatetimeIndex: 5081 entries, 2009-01-02 to 2022-11-30\n",
      "Data columns (total 1 columns):\n",
      " #   Column  Non-Null Count  Dtype  \n",
      "---  ------  --------------  -----  \n",
      " 0   Value   5081 non-null   float64\n",
      "dtypes: float64(1)\n",
      "memory usage: 79.4 KB\n"
     ]
    },
    {
     "data": {
      "text/plain": "Date\n2009-12-31        0.000000\n2010-12-31        0.299998\n2011-12-31        4.470000\n2012-12-31       13.570000\n2013-12-31      746.900000\n2014-12-31      315.700000\n2015-12-31      428.230000\n2016-12-31      958.120000\n2017-12-31    14165.575000\n2018-12-31     3791.545833\n2019-12-31     7219.600000\n2020-12-31    28856.590000\n2021-12-31    47132.960000\n2022-12-31    16432.730000\nFreq: A-DEC, Name: Value, dtype: float64"
     },
     "execution_count": 12,
     "metadata": {},
     "output_type": "execute_result"
    }
   ],
   "source": [
    "data = q.get('BCHAIN/MKPRU')\n",
    "data.info()\n",
    "data['Value'].resample('A').last()"
   ],
   "metadata": {
    "collapsed": false
   }
  },
  {
   "cell_type": "code",
   "execution_count": 16,
   "outputs": [
    {
     "name": "stdout",
     "output_type": "stream",
     "text": [
      "<class 'pandas.core.frame.DataFrame'>\n",
      "DatetimeIndex: 730 entries, 2018-01-02 to 2020-12-01\n",
      "Data columns (total 10 columns):\n",
      " #   Column                 Non-Null Count  Dtype  \n",
      "---  ------                 --------------  -----  \n",
      " 0   Open                   408 non-null    float64\n",
      " 1   High                   730 non-null    float64\n",
      " 2   Low                    730 non-null    float64\n",
      " 3   Close                  730 non-null    float64\n",
      " 4   Change                 0 non-null      object \n",
      " 5   Traded Volume          684 non-null    float64\n",
      " 6   Turnover               684 non-null    float64\n",
      " 7   Last Price of the Day  0 non-null      object \n",
      " 8   Daily Traded Units     0 non-null      object \n",
      " 9   Daily Turnover         0 non-null      object \n",
      "dtypes: float64(6), object(4)\n",
      "memory usage: 62.7+ KB\n"
     ]
    }
   ],
   "source": [
    "data = q.get('FSE/SAP_X', start_date='2018-1-1', end_date='2022-11-29')\n",
    "data.info()"
   ],
   "metadata": {
    "collapsed": false
   }
  },
  {
   "cell_type": "code",
   "execution_count": 17,
   "outputs": [
    {
     "name": "stdout",
     "output_type": "stream",
     "text": [
      "<class 'pandas.core.frame.DataFrame'>\n",
      "DatetimeIndex: 1006 entries, 2015-01-02 to 2018-12-31\n",
      "Data columns (total 10 columns):\n",
      " #   Column  Non-Null Count  Dtype  \n",
      "---  ------  --------------  -----  \n",
      " 0   Hv10    1006 non-null   float64\n",
      " 1   Hv20    1006 non-null   float64\n",
      " 2   Hv30    1006 non-null   float64\n",
      " 3   Hv60    1006 non-null   float64\n",
      " 4   Hv90    1006 non-null   float64\n",
      " 5   Hv120   1006 non-null   float64\n",
      " 6   Hv150   1006 non-null   float64\n",
      " 7   Hv180   1006 non-null   float64\n",
      " 8   Phv10   1006 non-null   float64\n",
      " 9   Phv20   1006 non-null   float64\n",
      "dtypes: float64(10)\n",
      "memory usage: 86.5 KB\n"
     ]
    },
    {
     "data": {
      "text/plain": "            IvMean30  IvMean60  IvMean90\nDate                                    \n2018-12-24    0.4310    0.4112    0.3829\n2018-12-26    0.4059    0.3844    0.3587\n2018-12-27    0.3918    0.3879    0.3618\n2018-12-28    0.3940    0.3736    0.3482\n2018-12-31    0.3760    0.3519    0.3310",
      "text/html": "<div>\n<style scoped>\n    .dataframe tbody tr th:only-of-type {\n        vertical-align: middle;\n    }\n\n    .dataframe tbody tr th {\n        vertical-align: top;\n    }\n\n    .dataframe thead th {\n        text-align: right;\n    }\n</style>\n<table border=\"1\" class=\"dataframe\">\n  <thead>\n    <tr style=\"text-align: right;\">\n      <th></th>\n      <th>IvMean30</th>\n      <th>IvMean60</th>\n      <th>IvMean90</th>\n    </tr>\n    <tr>\n      <th>Date</th>\n      <th></th>\n      <th></th>\n      <th></th>\n    </tr>\n  </thead>\n  <tbody>\n    <tr>\n      <th>2018-12-24</th>\n      <td>0.4310</td>\n      <td>0.4112</td>\n      <td>0.3829</td>\n    </tr>\n    <tr>\n      <th>2018-12-26</th>\n      <td>0.4059</td>\n      <td>0.3844</td>\n      <td>0.3587</td>\n    </tr>\n    <tr>\n      <th>2018-12-27</th>\n      <td>0.3918</td>\n      <td>0.3879</td>\n      <td>0.3618</td>\n    </tr>\n    <tr>\n      <th>2018-12-28</th>\n      <td>0.3940</td>\n      <td>0.3736</td>\n      <td>0.3482</td>\n    </tr>\n    <tr>\n      <th>2018-12-31</th>\n      <td>0.3760</td>\n      <td>0.3519</td>\n      <td>0.3310</td>\n    </tr>\n  </tbody>\n</table>\n</div>"
     },
     "execution_count": 17,
     "metadata": {},
     "output_type": "execute_result"
    }
   ],
   "source": [
    "vol = q.get('VOL/MSFT')\n",
    "vol.iloc[:, :10].info()\n",
    "vol[['IvMean30', 'IvMean60', 'IvMean90']].tail()"
   ],
   "metadata": {
    "collapsed": false
   }
  },
  {
   "cell_type": "code",
   "execution_count": null,
   "outputs": [],
   "source": [
    "# Skipping the Eikon stuff. Have used it before with folks from TRSS\n",
    "# (note: Used Eikon along with open perm id and open calais. I think Refinitiv may have changed the product names?)\n",
    "# Eikon does not have a trial version for the app and the api won't run without the desktop app running in the background. Ugh."
   ],
   "metadata": {
    "collapsed": false
   }
  }
 ],
 "metadata": {
  "kernelspec": {
   "display_name": "Python 3",
   "language": "python",
   "name": "python3"
  },
  "language_info": {
   "codemirror_mode": {
    "name": "ipython",
    "version": 2
   },
   "file_extension": ".py",
   "mimetype": "text/x-python",
   "name": "python",
   "nbconvert_exporter": "python",
   "pygments_lexer": "ipython2",
   "version": "2.7.6"
  }
 },
 "nbformat": 4,
 "nbformat_minor": 0
}
