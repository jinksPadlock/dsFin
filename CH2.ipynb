{
 "cells": [
  {
   "cell_type": "markdown",
   "source": [
    "# Tuples"
   ],
   "metadata": {
    "collapsed": false,
    "pycharm": {
     "name": "#%% md\n"
    }
   }
  },
  {
   "cell_type": "code",
   "execution_count": 1,
   "outputs": [
    {
     "name": "stdout",
     "output_type": "stream",
     "text": [
      "(-9.5, 11.75)\n",
      "<class 'tuple'>\n",
      "-9.5\n",
      "11.75\n"
     ]
    }
   ],
   "source": [
    "c0 = -9.5\n",
    "c1 = 11.75\n",
    "c = (c0, c1)\n",
    "print(c)\n",
    "print(type(c))\n",
    "print(c[0])\n",
    "print(c[1])"
   ],
   "metadata": {
    "collapsed": false,
    "pycharm": {
     "name": "#%%\n"
    }
   }
  },
  {
   "cell_type": "markdown",
   "source": [
    "# vs Lists"
   ],
   "metadata": {
    "collapsed": false,
    "pycharm": {
     "name": "#%% md\n"
    }
   }
  },
  {
   "cell_type": "code",
   "execution_count": 3,
   "outputs": [
    {
     "name": "stdout",
     "output_type": "stream",
     "text": [
      "[-9.5, 11.75]\n",
      "<class 'list'>\n",
      "-9.5\n",
      "11.75\n",
      "[10, 11.75]\n"
     ]
    }
   ],
   "source": [
    "c = [c0, c1]\n",
    "print(c)\n",
    "print(type(c))\n",
    "print(c[0])\n",
    "print(c[1])\n",
    "c[0] = 10\n",
    "print (c)"
   ],
   "metadata": {
    "collapsed": false,
    "pycharm": {
     "name": "#%%\n"
    }
   }
  },
  {
   "cell_type": "markdown",
   "source": [
    "# Return\n",
    "Investment project with cash flows $c=(c_0,c_1)$. The return $R\\in\\mathbb{R}$ of the project is the sum of the cash flows $R=c_0+c_1 = 10+12 = 2$. The rate of return, $r\\in\\mathbb{R}$ is the return $R$, divided by $|c_0|$, that is the absolute value of the investment outlay today:$$r = \\frac{R} {|c_0|} = \\frac {-10+12} {10} = \\frac {2} {10} = 0.2$$"
   ],
   "metadata": {
    "collapsed": false,
    "pycharm": {
     "name": "#%% md\n"
    }
   }
  },
  {
   "cell_type": "code",
   "execution_count": 4,
   "outputs": [
    {
     "name": "stdout",
     "output_type": "stream",
     "text": [
      "2\n",
      "0.2\n"
     ]
    }
   ],
   "source": [
    "c = (-10,12)\n",
    "R = sum(c)\n",
    "print(R)\n",
    "r = R / abs(c[0])\n",
    "print(r)"
   ],
   "metadata": {
    "collapsed": false,
    "pycharm": {
     "name": "#%%\n"
    }
   }
  },
  {
   "cell_type": "markdown",
   "source": [
    "## Interest\n",
    "There is a difference between a cash flow today and a cash flow in one year. The difference results from Interest earned on currency units or that has to be paid to borrow currency units. Interest is the price being paid for having control over money that belongs to another agent."
   ],
   "metadata": {
    "collapsed": false,
    "pycharm": {
     "name": "#%% md\n"
    }
   }
  },
  {
   "cell_type": "code",
   "execution_count": null,
   "outputs": [],
   "source": [],
   "metadata": {
    "collapsed": false,
    "pycharm": {
     "name": "#%%\n"
    }
   }
  }
 ],
 "metadata": {
  "kernelspec": {
   "display_name": "Python 3",
   "language": "python",
   "name": "python3"
  },
  "language_info": {
   "codemirror_mode": {
    "name": "ipython",
    "version": 2
   },
   "file_extension": ".py",
   "mimetype": "text/x-python",
   "name": "python",
   "nbconvert_exporter": "python",
   "pygments_lexer": "ipython2",
   "version": "2.7.6"
  }
 },
 "nbformat": 4,
 "nbformat_minor": 0
}