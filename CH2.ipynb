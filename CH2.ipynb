{
 "cells": [
  {
   "cell_type": "markdown",
   "source": [
    "# Tuples"
   ],
   "metadata": {
    "collapsed": false,
    "pycharm": {
     "name": "#%% md\n"
    }
   }
  },
  {
   "cell_type": "code",
   "execution_count": 1,
   "outputs": [
    {
     "name": "stdout",
     "output_type": "stream",
     "text": [
      "(-9.5, 11.75)\n",
      "<class 'tuple'>\n",
      "-9.5\n",
      "11.75\n"
     ]
    }
   ],
   "source": [
    "c0 = -9.5\n",
    "c1 = 11.75\n",
    "c = (c0, c1)\n",
    "print(c)\n",
    "print(type(c))\n",
    "print(c[0])\n",
    "print(c[1])"
   ],
   "metadata": {
    "collapsed": false,
    "pycharm": {
     "name": "#%%\n"
    }
   }
  },
  {
   "cell_type": "markdown",
   "source": [
    "# vs Lists"
   ],
   "metadata": {
    "collapsed": false,
    "pycharm": {
     "name": "#%% md\n"
    }
   }
  },
  {
   "cell_type": "code",
   "execution_count": 2,
   "outputs": [
    {
     "name": "stdout",
     "output_type": "stream",
     "text": [
      "[-9.5, 11.75]\n",
      "<class 'list'>\n",
      "-9.5\n",
      "11.75\n",
      "[10, 11.75]\n"
     ]
    }
   ],
   "source": [
    "c = [c0, c1]\n",
    "print(c)\n",
    "print(type(c))\n",
    "print(c[0])\n",
    "print(c[1])\n",
    "c[0] = 10\n",
    "print (c)"
   ],
   "metadata": {
    "collapsed": false,
    "pycharm": {
     "name": "#%%\n"
    }
   }
  },
  {
   "cell_type": "markdown",
   "source": [
    "# Return\n",
    "Investment project with cash flows $c=(c_0,c_1)$. The return $R\\in\\mathbb{R}$ of the project is the sum of the cash flows $R=c_0+c_1 = 10+12 = 2$. The rate of return, $r\\in\\mathbb{R}$ is the return $R$, divided by $|c_0|$, that is the absolute value of the investment outlay today:$$r = \\frac{R} {|c_0|} = \\frac {-10+12} {10} = \\frac {2} {10} = 0.2$$"
   ],
   "metadata": {
    "collapsed": false,
    "pycharm": {
     "name": "#%% md\n"
    }
   }
  },
  {
   "cell_type": "code",
   "execution_count": 3,
   "outputs": [
    {
     "name": "stdout",
     "output_type": "stream",
     "text": [
      "2\n",
      "0.2\n"
     ]
    }
   ],
   "source": [
    "c = (-10,12)\n",
    "R = sum(c)\n",
    "print(R)\n",
    "r = R / abs(c[0])\n",
    "print(r)"
   ],
   "metadata": {
    "collapsed": false,
    "pycharm": {
     "name": "#%%\n"
    }
   }
  },
  {
   "cell_type": "markdown",
   "source": [
    "## Interest\n",
    "There is a difference between a cash flow today and a cash flow in one year. The difference results from Interest earned on currency units or that has to be paid to borrow currency units.\n",
    "Interest is the price being paid for having control over money that belongs to another agent. The interest $I\\in\\mathbb{R}$ being paid on deposits is $I = c_0 + c_1 = -10 + 11 = 1$. The interest rate, $i\\in\\mathbb{R}$ is $i = \\frac {I} {|c_0|} = 0.1$.\n",
    "\n",
    "## Present Value\n",
    "Having lending or depositing options leads to opportunity costs for deploying money in an investment project. A cash flow in one year cannot be directly compared with one today because interest can be earned on currency units not deployed in a project. To compare two cash flows the present value needs to be calculated. This is accomplished by discounting using the fixed interest rate in the economy. Discounting can be modeled as a function: $D : \\mathbb{R} \\rightarrow \\mathbb{R},c_1 \\mapsto D(c_1)$"
   ],
   "metadata": {
    "collapsed": false,
    "pycharm": {
     "name": "#%% md\n"
    }
   }
  },
  {
   "cell_type": "markdown",
   "source": [],
   "metadata": {
    "collapsed": false,
    "pycharm": {
     "name": "#%% md\n"
    }
   }
  },
  {
   "cell_type": "code",
   "execution_count": 4,
   "outputs": [
    {
     "name": "stdout",
     "output_type": "stream",
     "text": [
      "10.999999999999998\n",
      "10.0\n"
     ]
    }
   ],
   "source": [
    "i = 0.1\n",
    "def D(c1):\n",
    "        return c1 / (1 + i)\n",
    "\n",
    "print(D(12.1))\n",
    "print(D(11))"
   ],
   "metadata": {
    "collapsed": false,
    "pycharm": {
     "name": "#%%\n"
    }
   }
  },
  {
   "cell_type": "markdown",
   "source": [
    "## Net Present Value\n",
    "The net present value, $NPV\\in\\mathbb{R}$, is the sum of cash outflow today and the present value of the cash flow in one year: $$NPV(c)=c_0 + D(c_1)$$ The net present value calculation is a function $NPV :\\mathbb{R^2}\\rightarrow\\mathbb{R}$ mapping a cash flow tuple to a real number.\n",
    "\n",
    "Consider an investment project with cash flows $(c^A) = -10.5 + D(12.1) = -10.5 + 11 = 0.5$ b/c the value is positive the project should be conducted."
   ],
   "metadata": {
    "collapsed": false,
    "pycharm": {
     "name": "#%% md\n"
    }
   }
  },
  {
   "cell_type": "code",
   "execution_count": 5,
   "outputs": [
    {
     "name": "stdout",
     "output_type": "stream",
     "text": [
      "0.4999999999999982\n",
      "-0.5\n"
     ]
    }
   ],
   "source": [
    "def NPV(c):\n",
    "        return c[0] + D(c[1])\n",
    "\n",
    "cA = (-10.5, 12.1)\n",
    "cB = (-10.5, 11)\n",
    "\n",
    "print(NPV(cA))\n",
    "print(NPV(cB))"
   ],
   "metadata": {
    "collapsed": false,
    "pycharm": {
     "name": "#%%\n"
    }
   }
  },
  {
   "cell_type": "markdown",
   "source": [
    "## Uncertainty\n",
    "Cash flows are inherently uncertain. In a two state economy (up, down) the cash flow of a project in one year $c_1$ then becomes a vector $c_1\\in\\mathbb{R^2}$ with two different values $c_1^u,c_1^d\\in\\mathbb{R}$"
   ],
   "metadata": {
    "collapsed": false,
    "pycharm": {
     "name": "#%% md\n"
    }
   }
  },
  {
   "cell_type": "code",
   "execution_count": 6,
   "outputs": [
    {
     "name": "stdout",
     "output_type": "stream",
     "text": [
      "<class 'numpy.ndarray'>\n",
      "[20  5]\n",
      "(-10, array([20,  5]))\n",
      "[32.   9.5]\n",
      "[35. 11.]\n"
     ]
    }
   ],
   "source": [
    "import numpy as np\n",
    "c0 = -10\n",
    "c1 = np.array((20,5))\n",
    "\n",
    "print(type(c1))\n",
    "print(c1)\n",
    "\n",
    "c = (c0, c1)\n",
    "print(c)\n",
    "\n",
    "print(1.5 * c1 + 2)\n",
    "print(c1 + 1.5 * np.array((10,4)))"
   ],
   "metadata": {
    "collapsed": false,
    "pycharm": {
     "name": "#%%\n"
    }
   }
  },
  {
   "cell_type": "markdown",
   "source": [
    "## Financial Assets\n",
    "Financial assets are contracts that have a fixed price today and an uncertain price in one year. A share: $S_0 \\in \\mathbb{R}_>_0$. The price of the share in a two state economy: $S_1^u, S_1^d \\in \\mathbb{R}_\\geq_0$ with $S_1^u > S_1^d$.\n",
    "\n",
    "Price Process of the asset maps time and state of the economy to the price of the financial asset. $S: \\mathbb{N}_0 \\times \\{u,d\\} \\rightarrow \\mathbb{R}_\\geq_0$. Note that price today is independent of the state $S_0^u = S_0^d \\equiv S_0$ while the price after one year is not."
   ],
   "metadata": {
    "collapsed": false,
    "pycharm": {
     "name": "#%% md\n"
    }
   }
  },
  {
   "cell_type": "code",
   "execution_count": 7,
   "outputs": [
    {
     "name": "stdout",
     "output_type": "stream",
     "text": [
      "(10, array([12.5,  7.5]))\n",
      "10\n",
      "12.5\n",
      "7.5\n"
     ]
    }
   ],
   "source": [
    "S0 = 10\n",
    "S1 = np.array((12.5, 7.5))\n",
    "S = (S0, S1)\n",
    "\n",
    "print(S)\n",
    "print(S[0])\n",
    "print(S[1][0])\n",
    "print(S[1][1])"
   ],
   "metadata": {
    "collapsed": false,
    "pycharm": {
     "name": "#%%\n"
    }
   }
  },
  {
   "cell_type": "markdown",
   "source": [
    "## Risk"
   ],
   "metadata": {
    "collapsed": false,
    "pycharm": {
     "name": "#%% md\n"
    }
   }
  },
  {
   "cell_type": "code",
   "execution_count": null,
   "outputs": [],
   "source": [],
   "metadata": {
    "collapsed": false,
    "pycharm": {
     "name": "#%%\n"
    }
   }
  }
 ],
 "metadata": {
  "kernelspec": {
   "display_name": "Python 3",
   "language": "python",
   "name": "python3"
  },
  "language_info": {
   "codemirror_mode": {
    "name": "ipython",
    "version": 2
   },
   "file_extension": ".py",
   "mimetype": "text/x-python",
   "name": "python",
   "nbconvert_exporter": "python",
   "pygments_lexer": "ipython2",
   "version": "2.7.6"
  }
 },
 "nbformat": 4,
 "nbformat_minor": 0
}